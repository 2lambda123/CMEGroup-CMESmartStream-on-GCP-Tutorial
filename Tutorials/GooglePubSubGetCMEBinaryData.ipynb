{
 "cells": [
  {
   "cell_type": "markdown",
   "metadata": {},
   "source": [
    "# CME Smart Stream on Google Cloud Platform Tutorials\n",
    "## Getting CME Binary Data from CME Smart Stream on Google Cloud Platform (GCP)\n",
    "\n",
    "This workbook demonstrates the ability to quickly use the CME Smart Stream on GCP solution.  Through the examples, we will \n",
    "- Authenticate using GCP IAM information\n",
    "- Configure which CME Smart Stream on GCP Topic containing the Market Data \n",
    "- Download a single message from your Cloud Pub/Sub Subscription\n",
    "- Delete your Cloud Pub/Sub Subscription\n",
    "\n",
    "The following example references the following webpage to pull the information:\n",
    "\n",
    "https://www.cmegroup.com/confluence/display/EPICSANDBOX/CME+Smart+Stream+GCP+Topic+Names\n",
    "\n",
    "\n",
    "Author:  Aaron Walters (Github: @aaronwalters79).  \n",
    "OS: MacOS"
   ]
  },
  {
   "cell_type": "code",
   "execution_count": 1,
   "metadata": {},
   "outputs": [],
   "source": [
    "#import packages.  These are outlined in the environment.ymal file as part of this project.\n",
    "#these can also be directly imported. \n",
    "\n",
    "# Google SDK: https://cloud.google.com/sdk/docs/quickstarts\n",
    "# Google PubSub: https://cloud.google.com/pubsub/docs/reference/libraries\n",
    "\n",
    "from google.cloud import pubsub_v1\n",
    "import os\n",
    "import google.auth\n",
    "\n"
   ]
  },
  {
   "cell_type": "markdown",
   "metadata": {},
   "source": [
    "# Authentication using Google IAM\n",
    "\n",
    "CME Smart Stream uses Google Cloud native Idenity and Accesss Management (IAM) solutions.  Using this approach, customers are able to natively access CME Smart Stream solution without custom SDK's or authentication routines.  All the code in this workboard is native Google Python SDK.  While the Google Pub/Sub examples below are using python, there are native SDK's for other popular languages including Java, C#, Node.js, PHP, and others.\n",
    "\n",
    "To download those libraries, please see the following location: https://cloud.google.com/pubsub/docs/reference/libraries\n",
    "\n",
    "\n",
    "When onboarding to CME Smart Stream, you will supply at least one Google IAM Member accounts.  https://cloud.google.com/iam/docs/overview.  When accessing CME Smart Stream Topics, you will use the same IAM account infromation to create your Subscription using navative GCP authenticaion routines within the GCP SDK. \n",
    "\n",
    "The following authentication routines below use either a Service Account or User Account.  Google highly recomends using an Service Account with associated authorization json.  This document also contains authentication via User Account in the event you requested CME to use User Account for access.  You only need to use one of these for the example.\n",
    "\n"
   ]
  },
  {
   "cell_type": "markdown",
   "metadata": {},
   "source": [
    "## Authentication Routine for Service Account  \n",
    "This section is for customers using Service Accounts.  You should update the './gcp-auth.json' to reference your local authorization json file downloaded from google.  \n",
    "\n",
    "Further documentation is located here: https://cloud.google.com/docs/authentication/getting-started    "
   ]
  },
  {
   "cell_type": "code",
   "execution_count": 2,
   "metadata": {},
   "outputs": [],
   "source": [
    "## Authentication Method Options -- SERVICE ACCOUNT JSON FILE\n",
    "# This should point to the file location of the json file downloaded from GCP console.  This will load it into your os variables and be automtically leverage when your system interacts with GCP.\n",
    "\n",
    "#os.environ['GOOGLE_APPLICATION_CREDENTIALS'] = \"./gcp-auth.json\"  #Uncomment if using this method.\n",
    "\n"
   ]
  },
  {
   "cell_type": "markdown",
   "metadata": {},
   "source": [
    "## Authentication for User Account\n",
    "\n",
    "This section is for customers that registered thier GCP User Account (i.e. user@domain.com).  This routine will launch the OS SDK to authenticate you as that user and then set it as your default credentials for the rest of the workflow when interacting with GCP.  \n",
    "\n",
    "IN OS TERMINAL: 'gcloud auth application-default login'  without quotes."
   ]
  },
  {
   "cell_type": "code",
   "execution_count": 4,
   "metadata": {},
   "outputs": [
    {
     "name": "stderr",
     "output_type": "stream",
     "text": [
      "/anaconda3/envs/python3/lib/python3.7/site-packages/google/auth/_default.py:66: UserWarning: Your application has authenticated using end user credentials from Google Cloud SDK. We recommend that most server applications use service accounts instead. If your application continues to use end user credentials from Cloud SDK, you might receive a \"quota exceeded\" or \"API not enabled\" error. For more information about service accounts, see https://cloud.google.com/docs/authentication/\n",
      "  warnings.warn(_CLOUD_SDK_CREDENTIALS_WARNING)\n"
     ]
    }
   ],
   "source": [
    "## Authentication Method User Machine Defaults\n",
    "#\n",
    "#Run \"gcloud auth login\" in command line and login as the user. The code below will do that automatically.  \n",
    "#It should laucnh a browser to authenticate into GCP that user name and associated permissions will be used in the remaining of the code below\n",
    "\n",
    "# This code will put out a warning about using end user credentials.\n",
    "# Reference: https://google-auth.readthedocs.io/en/latest/user-guide.html\n",
    "\n",
    "\n",
    "credentials, project = google.auth.default()"
   ]
  },
  {
   "cell_type": "markdown",
   "metadata": {},
   "source": [
    "# Set Your Smart Stream on GCP Projects and Topics\n"
   ]
  },
  {
   "cell_type": "markdown",
   "metadata": {},
   "source": [
    "\n",
    "## Set CME Smart Stream Project \n",
    "\n",
    "CME Smart Stream on GCP data is avaliable in two GCP Projects based upon Production and Non-Production (i.e. certification and new release) data.  Customers are granted access to projects through the onboarding process. \n",
    "\n",
    "The example below sets the target CME Smart Stream on GCP Project as an OS variable for easy reference.\n"
   ]
  },
  {
   "cell_type": "code",
   "execution_count": 5,
   "metadata": {},
   "outputs": [],
   "source": [
    "#This is the project at CME \n",
    "os.environ['GOOGLE_CLOUD_PROJECT_CME'] = \"cmegroup-marketdata-newrel\" #CERT and NEW RELEASE\n",
    "#os.environ['GOOGLE_CLOUD_PROJECT_CME'] = \"cmegroup-marketdata\"  #PRODUCTION"
   ]
  },
  {
   "cell_type": "markdown",
   "metadata": {},
   "source": [
    "## Set CME Smart Stream Topics\n",
    "\n",
    "CME Smart Stream on GCP follows the traditional data segmentation of the CME Multicast solution. \n",
    "\n",
    "Each channel on Multicast is avaliable as a Topic in Google Cloud PubSub.  This workbook will create 1 subscription in the customer's account against 1 Topic from the CME project.  Clearly, customers can script this to create as many subscriptions as needed.  \n",
    "\n",
    "Please see: https://www.cmegroup.com/confluence/display/EPICSANDBOX/CME+Smart+Stream+GCP+Topic+Names for all the topic names. \n",
    "\n",
    "You can also review the notebook included in this git project named Google PubSub Get CME Topics on how to read the names from the website into a local CSV file or use in automated scripts."
   ]
  },
  {
   "cell_type": "code",
   "execution_count": 6,
   "metadata": {},
   "outputs": [],
   "source": [
    "# The CME TOPIC that a Subscription will be created against\n",
    "os.environ['GOOGLE_CLOUD_TOPIC_CME'] = \"CERT.SSCL.GCP.MD.RT.CMEG.FIXBIN.v01000.INCR.310\"  #CERT\n",
    "#s.environ['GOOGLE_CLOUD_TOPIC_CME'] = \"NR.SSCL.GCP.MD.RT.CMEG.FIXBIN.v01000.INCR.310\" #NEW RELEASE\n",
    "#os.environ['GOOGLE_CLOUD_TOPIC_CME'] = \"CERT.SSCL.GCP.MD.RT.CMEG.FIXBIN.v01000.INCR.310\" #PRODUCTION \n",
    "\n"
   ]
  },
  {
   "cell_type": "markdown",
   "metadata": {},
   "source": [
    "# Set Customer Configurations"
   ]
  },
  {
   "cell_type": "markdown",
   "metadata": {},
   "source": [
    "## Set Customer Project & Subscription Name\n",
    "\n",
    "Smart Stream on GCP solution requires that the customer create a Cloud Pub/Sub Subscription in thier account.  This subscription will automatically collect data from the CME Smart Stream Pub/Sub Topic. Since the Subscriptin is in the customer account we must specify the customer GCP Project and the name of the Subscription they want in the project.  \n",
    "\n",
    "In the example below, we set the project directly based upon our GCP project name.  We also create a subscription name by prepending 'MY_' to the name of the Topic we are joining.  \n"
   ]
  },
  {
   "cell_type": "code",
   "execution_count": 14,
   "metadata": {},
   "outputs": [],
   "source": [
    "#Your Configurations for the project you want to have access; \n",
    "#will use the defaults from credentials \n",
    "os.environ['GOOGLE_CLOUD_PROJECT'] = \"prefab-rampart-794\"\n",
    "\n",
    "#My Subscipription Name -- Take the CME Topic Name and prepend 'MY_' -- Can be any thing the customer wants\n",
    "os.environ['MY_SUBSCRIPTION_NAME'] = 'MY_'+os.environ['GOOGLE_CLOUD_TOPIC_CME'] #MY SUBSCRIPTION NAME"
   ]
  },
  {
   "cell_type": "markdown",
   "metadata": {},
   "source": [
    "# Final Configuration\n",
    "\n",
    "The following is the final configuration for your setup."
   ]
  },
  {
   "cell_type": "code",
   "execution_count": 15,
   "metadata": {},
   "outputs": [
    {
     "name": "stdout",
     "output_type": "stream",
     "text": [
      "Target Project: \t cmegroup-marketdata-newrel\n",
      "Target Topic: \t\t CERT.SSCL.GCP.MD.RT.CMEG.FIXBIN.v01000.INCR.310 \n",
      "\n",
      "My Project: \t\t prefab-rampart-794\n",
      "My Subscriptions: \t ALEXDEMO_CERT.SSCL.GCP.MD.RT.CMEG.FIXBIN.v01000.INCR.310\n"
     ]
    }
   ],
   "source": [
    "\n",
    "print ('Target Project: \\t',os.environ['GOOGLE_CLOUD_PROJECT_CME'] )\n",
    "print ('Target Topic: \\t\\t', os.environ['GOOGLE_CLOUD_TOPIC_CME'] , '\\n' )\n",
    "print ('My Project: \\t\\t',os.environ['GOOGLE_CLOUD_PROJECT'])\n",
    "print ('My Subscriptions: \\t',os.environ['MY_SUBSCRIPTION_NAME'] )"
   ]
  },
  {
   "cell_type": "markdown",
   "metadata": {},
   "source": [
    "# Create Your Subscription to CME Smart Stream Data Topics\n",
    "We have all the main variables set and can pass them to the Cloud Pub/Sub Python SDK.  The following attempts to create a Subscription (MY_SUBSCRIPTION_NAME) in your specified project (GOOGLE_CLOUD_PROJECT) that points to the CME Topic (GOOGLE_CLOUD_TOPIC_CME) and Project (GOOGLE_CLOUD_PROJECT_CME) of that Topic.\n",
    "\n",
    "Once created or determined it already exists we will join our python session to the Subscription as 'subscriber'. \n",
    "\n",
    "Full documentation on this Pub/Sub example is avaliable: https://googleapis.github.io/google-cloud-python/latest/pubsub/#subscribing\n"
   ]
  },
  {
   "cell_type": "code",
   "execution_count": 19,
   "metadata": {},
   "outputs": [
    {
     "name": "stdout",
     "output_type": "stream",
     "text": [
      "Created Subscriptions in Project \n",
      "\n",
      "Listing Subscriptions in Your Project prefab-rampart-794 : \n",
      "\t projects/prefab-rampart-794/subscriptions/ALEXDEMO_CERT.SSCL.GCP.MD.RT.CMEG.FIXBIN.v01000.INCR.310\n"
     ]
    }
   ],
   "source": [
    "#https://googleapis.github.io/google-cloud-python/latest/pubsub/#subscribing\n",
    "\n",
    "\n",
    "#Create Topic Name from Config Above\n",
    "topic_name = 'projects/{cme_project_id}/topics/{cme_topic}'.format( cme_project_id=os.getenv('GOOGLE_CLOUD_PROJECT_CME'), cme_topic=os.getenv('GOOGLE_CLOUD_TOPIC_CME'),  )\n",
    "\n",
    "#Create Subscription Name from Config Above\n",
    "subscription_name = 'projects/{my_project_id}/subscriptions/{my_sub}'.format(my_project_id=os.getenv('GOOGLE_CLOUD_PROJECT'),my_sub=os.environ['MY_SUBSCRIPTION_NAME'],  )\n",
    "\n",
    "#Try To Create a subscription in your Project\n",
    "subscriber = pubsub_v1.SubscriberClient(credentials=credentials)\n",
    "try:\n",
    "    subscriber.create_subscription(\n",
    "    name=subscription_name, \n",
    "    topic=topic_name,\n",
    "    ack_deadline_seconds=60,  #This limits the likelihood google will redeliver a recieved message, default is 10s.\n",
    "    )\n",
    "    print ('Created Subscriptions in Project \\n')\n",
    "\n",
    "\n",
    "    print ('Listing Subscriptions in Your Project %s : ' % os.getenv('GOOGLE_CLOUD_PROJECT'))\n",
    "    for subscription in subscriber.list_subscriptions(subscriber.project_path(os.environ['GOOGLE_CLOUD_PROJECT'])):\n",
    "        print('\\t', subscription.name)\n",
    "\n",
    "\n",
    "\n",
    "except:\n",
    "    e = sys.exc_info()[1]\n",
    "    print( \"Error: %s \\n\" % e )\n"
   ]
  },
  {
   "cell_type": "markdown",
   "metadata": {},
   "source": [
    "## Subscription View in Google Cloud Console\n",
    "\n",
    "Subscriptions are also avaliable for viewing in Google Cloud Console (https://console.cloud.google.com/).  Navigate to Cloud Pub/Sub and click Subscription.  If you click your Subscription Name, it will open up the details about that Subscription.  You can see the all queued messages and core settings which are set to default settings as we did not specify special settings and the functions above used the defaults.  \n",
    "\n",
    "Another thing shown in this view is the total queued messages from GCP in the Subscription.\n"
   ]
  },
  {
   "cell_type": "markdown",
   "metadata": {},
   "source": [
    "## Pull a Single Message from CME \n",
    "\n",
    "The following will do a simple message pull from your Subscription and print it out locally.  There are extensive examples on data pulling from a Subscription including batch and async (https://cloud.google.com/pubsub/docs/pull).  \n",
    "\n"
   ]
  },
  {
   "cell_type": "code",
   "execution_count": 17,
   "metadata": {},
   "outputs": [
    {
     "name": "stdout",
     "output_type": "stream",
     "text": [
      "Pulling a Single Message and Displaying:\n",
      "received_messages {\n",
      "  ack_id: \"TgQhIT4wPkVTRFAGFixdRkhRNxkIaFEOT14jPzUgKEURAQgUBXx9cUFPdVVeGgdRDRlyfGcjbAkXUgRGVnlVWRENem1cVzhYDxl7e2F2bl4VAwpHUn13wszCqPLBIR1tNY2h8KFASony3-N2Zho9XxJLLD5-PT1FQV5AEkw2CERJUytDCypYEQ\"\n",
      "  message {\n",
      "    data: \":|\\027\\000\\353\\336\\260\\266\\260n\\346\\025@\\000\\013\\000/\\000\\001\\000\\t\\000\\257\\266\\220\\266\\260n\\346\\025\\204\\000\\000(\\000\\001\\331\\376\\304\\022\\017\\000\\000\\000\\211E\\303$\\000\\000\\000\\000\\000j\\317\\245>\\'\\001\\000\\003\\000\\000\\000K)\\000\\000\\0001\\000\\000\\000\\000\\000\\000\"\n",
      "    attributes {\n",
      "      key: \"Channel\"\n",
      "      value: \"310\"\n",
      "    }\n",
      "    attributes {\n",
      "      key: \"MsgSeqNum\"\n",
      "      value: \"1539130\"\n",
      "    }\n",
      "    attributes {\n",
      "      key: \"SendingTime\"\n",
      "      value: \"1578070424712\"\n",
      "    }\n",
      "    message_id: \"920960344628213\"\n",
      "    publish_time {\n",
      "      seconds: 1578070424\n",
      "      nanos: 736000000\n",
      "    }\n",
      "  }\n",
      "}\n",
      "\n"
     ]
    }
   ],
   "source": [
    "#Pull 1 Message\n",
    "print ('Pulling a Single Message and Displaying:')\n",
    "\n",
    "CME_DATA = subscriber.pull(subscription_name, max_messages=1)\n",
    "\n",
    "#Print that Message\n",
    "print (CME_DATA)\n"
   ]
  },
  {
   "cell_type": "markdown",
   "metadata": {},
   "source": [
    "# Delete Subscriptions\n",
    "\n",
    "You can also use the Python SDK to delete your Cloud Pub/Sub Subscriptions.  The following will attempt to delete ALL the subscriptions in your Project.   \n"
   ]
  },
  {
   "cell_type": "code",
   "execution_count": 18,
   "metadata": {},
   "outputs": [
    {
     "name": "stderr",
     "output_type": "stream",
     "text": [
      "/anaconda3/envs/python3/lib/python3.7/site-packages/google/auth/_default.py:66: UserWarning: Your application has authenticated using end user credentials from Google Cloud SDK. We recommend that most server applications use service accounts instead. If your application continues to use end user credentials from Cloud SDK, you might receive a \"quota exceeded\" or \"API not enabled\" error. For more information about service accounts, see https://cloud.google.com/docs/authentication/\n",
      "  warnings.warn(_CLOUD_SDK_CREDENTIALS_WARNING)\n"
     ]
    },
    {
     "name": "stdout",
     "output_type": "stream",
     "text": [
      "\tDeleted: projects/prefab-rampart-794/subscriptions/ALEXDEMO_CERT.SSCL.GCP.MD.RT.CMEG.FIXBIN.v01000.INCR.310\n"
     ]
    }
   ],
   "source": [
    "#List Subscriptions in My Project / Delete Subscription\n",
    "delete = True\n",
    "\n",
    "subscriber = pubsub_v1.SubscriberClient()\n",
    "project_path = subscriber.project_path(os.environ['GOOGLE_CLOUD_PROJECT'])\n",
    "\n",
    "if not delete: \n",
    "\n",
    "    print ('Did you mean to Delete all Subscriptions?  If yes, then set delete = True')\n",
    "\n",
    "for subscription in subscriber.list_subscriptions(project_path):    \n",
    "    #Delete Subscriptions\n",
    "    if delete: \n",
    "        subscriber.delete_subscription(subscription.name)\n",
    "        print (\"\\tDeleted: {}\".format(subscription.name))\n",
    "    else:\n",
    "        print(\"\\tActive Subscription: {}\".format(subscription.name))"
   ]
  },
  {
   "cell_type": "markdown",
   "metadata": {},
   "source": [
    "# Summary\n",
    "\n",
    "This notebook went through the bare minimum needed to create a Cloud Pub/Sub Subscription against the CME Smart Stream on GCP solutions.  \n",
    "\n",
    "\n",
    "\n",
    "\n",
    "\n",
    "#  Questions?\n",
    "\n",
    "If you have questions or think we can update this to additional use cases, please use the Issues feature in Github or reach out to CME Sales team at markettechsales@cmegroup.com\n",
    "\n",
    "\n"
   ]
  }
 ],
 "metadata": {
  "kernelspec": {
   "display_name": "Python 3",
   "language": "python",
   "name": "python3"
  },
  "language_info": {
   "codemirror_mode": {
    "name": "ipython",
    "version": 3
   },
   "file_extension": ".py",
   "mimetype": "text/x-python",
   "name": "python",
   "nbconvert_exporter": "python",
   "pygments_lexer": "ipython3",
   "version": "3.7.3"
  }
 },
 "nbformat": 4,
 "nbformat_minor": 2
}
