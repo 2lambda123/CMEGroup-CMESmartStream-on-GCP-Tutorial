{
 "cells": [
  {
   "cell_type": "markdown",
   "execution_count": null,
   "metadata": {},
   "outputs": [],
   "source": [
    "# CME Smart Stream on GCP Topic List\n",
    "\n",
    "The following code loads from CMEGroup.com website the published list of topics avaliable on CME Smart Stream for GCP for the Certification, New Release, and Production.\n",
    "\n",
    "The following example references the following webpage to pull the information:\n",
    "\n",
    "https://www.cmegroup.com/confluence/display/EPICSANDBOX/CME+Smart+Stream+GCP+Topic+Names\n",
    "\n",
    "\n",
    "Author:  Aaron Walters (Github: @aaronwalters79)\n",
    "\n",
    "\n"
   ]
  },
  {
   "source": [
    "# Import needed packages\n",
    "import pandas as pd\n",
    "import requests"
   ],
   "cell_type": "code",
   "outputs": [],
   "metadata": {},
   "execution_count": 1
  },
  {
   "cell_type": "markdown",
   "metadata": {},
   "source": [
    "## Grab The List of Topics from CME Hosted Location \n"
   ]
  },
  {
   "source": [
    "response = requests.get('https://www.cmegroup.com/confluence/display/EPICSANDBOX/CME+Smart+Stream+GCP+Topic+Names')\n",
    "df = pd.read_html(response.text,header=0 )\n",
    "\n",
    "#Create Seperate Tables for each table in the response.   \n",
    "certTopicsDF = df[0]\n",
    "newrelTopicsDF = df[1]\n",
    "PRODTopicsDF = df[2]"
   ],
   "cell_type": "code",
   "outputs": [],
   "metadata": {},
   "execution_count": 2
  },
  {
   "cell_type": "markdown",
   "metadata": {},
   "source": [
    "## Preview the Results\n",
    "Three tables were created, one for each environment of Certification, New Release, and Production\n"
   ]
  },
  {
   "source": [
    "#certTopicsDF.head()\n",
    "newrelTopicsDF.head()\n",
    "#PRODTopicsDF.head()"
   ],
   "cell_type": "code",
   "outputs": [
    {
     "output_type": "execute_result",
     "data": {
      "text/plain": "        Channel Name  Channel Number Channel Type Environment      Protocol  \\\n0     CME Credit OTC             200  Incremental          NR  STREAMLINEFB   \n1    CME Cleared OTC             201  Incremental          NR  STREAMLINEFB   \n2        S&P Indexes             210  Incremental          NR  STREAMLINEFB   \n3  Dow Jones Indexes             211  Incremental          NR  STREAMLINEFB   \n4  Bloomberg Indexes             212  Incremental          NR  STREAMLINEFB   \n\n             GCP Project Name  \\\n0  cmegroup-marketdata-newrel   \n1  cmegroup-marketdata-newrel   \n2  cmegroup-marketdata-newrel   \n3  cmegroup-marketdata-newrel   \n4  cmegroup-marketdata-newrel   \n\n                                      GCP Topic Name  \n0      NR.SSCL.GCP.MD.RT.CMEG.STRBIN.v01000.INCR.200  \n1      NR.SSCL.GCP.MD.RT.CMEG.STRBIN.v01000.INCR.201  \n2     NR.SSCL.GCP.MD.RT.SPDJI.STRBIN.v01000.INCR.210  \n3     NR.SSCL.GCP.MD.RT.SPDJI.STRBIN.v01000.INCR.211  \n4  NR.SSCL.GCP.MD.RT.BLOOMBERG.STRBIN.v01000.INCR...  ",
      "text/html": "<div>\n<style scoped>\n    .dataframe tbody tr th:only-of-type {\n        vertical-align: middle;\n    }\n\n    .dataframe tbody tr th {\n        vertical-align: top;\n    }\n\n    .dataframe thead th {\n        text-align: right;\n    }\n</style>\n<table border=\"1\" class=\"dataframe\">\n  <thead>\n    <tr style=\"text-align: right;\">\n      <th></th>\n      <th>Channel Name</th>\n      <th>Channel Number</th>\n      <th>Channel Type</th>\n      <th>Environment</th>\n      <th>Protocol</th>\n      <th>GCP Project Name</th>\n      <th>GCP Topic Name</th>\n    </tr>\n  </thead>\n  <tbody>\n    <tr>\n      <th>0</th>\n      <td>CME Credit OTC</td>\n      <td>200</td>\n      <td>Incremental</td>\n      <td>NR</td>\n      <td>STREAMLINEFB</td>\n      <td>cmegroup-marketdata-newrel</td>\n      <td>NR.SSCL.GCP.MD.RT.CMEG.STRBIN.v01000.INCR.200</td>\n    </tr>\n    <tr>\n      <th>1</th>\n      <td>CME Cleared OTC</td>\n      <td>201</td>\n      <td>Incremental</td>\n      <td>NR</td>\n      <td>STREAMLINEFB</td>\n      <td>cmegroup-marketdata-newrel</td>\n      <td>NR.SSCL.GCP.MD.RT.CMEG.STRBIN.v01000.INCR.201</td>\n    </tr>\n    <tr>\n      <th>2</th>\n      <td>S&amp;P Indexes</td>\n      <td>210</td>\n      <td>Incremental</td>\n      <td>NR</td>\n      <td>STREAMLINEFB</td>\n      <td>cmegroup-marketdata-newrel</td>\n      <td>NR.SSCL.GCP.MD.RT.SPDJI.STRBIN.v01000.INCR.210</td>\n    </tr>\n    <tr>\n      <th>3</th>\n      <td>Dow Jones Indexes</td>\n      <td>211</td>\n      <td>Incremental</td>\n      <td>NR</td>\n      <td>STREAMLINEFB</td>\n      <td>cmegroup-marketdata-newrel</td>\n      <td>NR.SSCL.GCP.MD.RT.SPDJI.STRBIN.v01000.INCR.211</td>\n    </tr>\n    <tr>\n      <th>4</th>\n      <td>Bloomberg Indexes</td>\n      <td>212</td>\n      <td>Incremental</td>\n      <td>NR</td>\n      <td>STREAMLINEFB</td>\n      <td>cmegroup-marketdata-newrel</td>\n      <td>NR.SSCL.GCP.MD.RT.BLOOMBERG.STRBIN.v01000.INCR...</td>\n    </tr>\n  </tbody>\n</table>\n</div>"
     },
     "metadata": {},
     "execution_count": 3
    }
   ],
   "metadata": {},
   "execution_count": 3
  },
  {
   "source": [
    "len(PRODTopicsDF)"
   ],
   "cell_type": "code",
   "outputs": [
    {
     "output_type": "execute_result",
     "data": {
      "text/plain": "152"
     },
     "metadata": {},
     "execution_count": 6
    }
   ],
   "metadata": {},
   "execution_count": 6
  },
  {
   "cell_type": "markdown",
   "execution_count": null,
   "metadata": {},
   "outputs": [],
   "source": [
    "## Do Something with the Results"
   ]
  },
  {
   "cell_type": "code",
   "execution_count": null,
   "metadata": {},
   "outputs": [],
   "source": [
    "def doSomething(True):\n",
    "    \n",
    "    #...        \n",
    "\n",
    "    return \n",
    "\n",
    "#save to local disk \n",
    "PRODTopicsDF.to_csv('./mylocaldir/PROD_SmartStreamCloudTopcics.csv')        "
   ]
  }
 ],
 "metadata": {
  "kernelspec": {
   "display_name": "Python 3",
   "language": "python",
   "name": "python3"
  },
  "language_info": {
   "codemirror_mode": {
    "name": "ipython",
    "version": 3
   },
   "file_extension": ".py",
   "mimetype": "text/x-python",
   "name": "python",
   "nbconvert_exporter": "python",
   "pygments_lexer": "ipython3",
   "version": "3.7.3"
  }
 },
 "nbformat": 4,
 "nbformat_minor": 2
}